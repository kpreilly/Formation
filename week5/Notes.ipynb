{
 "cells": [
  {
   "cell_type": "markdown",
   "id": "5ad6dbdb",
   "metadata": {},
   "source": [
    "# Notes for week 5"
   ]
  },
  {
   "cell_type": "markdown",
   "id": "8cecb5d8",
   "metadata": {},
   "source": [
    "## Matrix Multiplication\n",
    "\n",
    "Given two matrices, find the result of matrix multiplication.\n",
    "\n",
    "$$\n",
    "     \\begin{bmatrix}\n",
    "         1 & 7\\\\ \n",
    "         2 & 4 \n",
    "     \\end{bmatrix}\n",
    "     \\times\n",
    "     \\begin{bmatrix}\n",
    "         3 & 3\\\\ \n",
    "         5 & 2  \n",
    "     \\end{bmatrix}\n",
    "      =\n",
    "     \\begin{bmatrix}\n",
    "         38 & 17\\\\ \n",
    "         26 & 14   \n",
    "     \\end{bmatrix}\n",
    "  $$"
   ]
  },
  {
   "cell_type": "code",
   "execution_count": 6,
   "id": "bd262917",
   "metadata": {},
   "outputs": [],
   "source": [
    "def matrixMultiply(matrixA, matrixB):\n",
    "    output = []\n",
    "    for k in range(len(matrixA)):\n",
    "        tmp = []\n",
    "        for j in range(len(matrixA[k])):\n",
    "            accumulator = 0\n",
    "            for i in range(len(matrixA[j])):\n",
    "                accumulator += matrixA[k][i] * matrixB[i][j]\n",
    "            tmp.append(accumulator)\n",
    "        output.append(tmp[:])\n",
    "    return output\n"
   ]
  },
  {
   "cell_type": "code",
   "execution_count": 8,
   "id": "fc293e0c",
   "metadata": {},
   "outputs": [
    {
     "name": "stdout",
     "output_type": "stream",
     "text": [
      "True should be True\n"
     ]
    }
   ],
   "source": [
    "matrixA = [[1, 7], [2, 4]]\n",
    "matrixB = [[3, 3], [5, 2]]\n",
    "result = [[38, 17], [26, 14]]\n",
    "print(matrixMultiply(matrixA, matrixB) == result, 'should be True')\n"
   ]
  },
  {
   "cell_type": "markdown",
   "id": "11cf2bdd",
   "metadata": {},
   "source": [
    "## Trie\n",
    "\n",
    "A tree is known as a digital tree or a prefix tree.\n",
    "\n",
    "\"Trie\" comes from the word retrieval and is usually pronounced \"try\" in order to distinguish it from a tree data structure.\n",
    "\n",
    "A trie consists of a value, a dictionary, and an end-of-word indicator:\n",
    "\n",
    "```python\n",
    "class TrieNode:\n",
    "\n",
    "    def __init__(self, value=None):\n",
    "        self.value = value\n",
    "        self.children = dict()\n",
    "        self.isWord = False\n",
    "```"
   ]
  },
  {
   "cell_type": "code",
   "execution_count": 5,
   "id": "ac6cfc49",
   "metadata": {},
   "outputs": [],
   "source": [
    "class Trie:\n",
    "\n",
    "    def __init__(self):\n",
    "        self.child = {}\n",
    "\n",
    "    def insert(self, word: str) -> None:\n",
    "        current = self.child\n",
    "        for l in word:\n",
    "            if l not in current:\n",
    "                current[l] = {}\n",
    "            current = current[l]\n",
    "        current['#'] = 1\n",
    "\n",
    "    def search(self, word: str) -> bool:\n",
    "        current = self.child\n",
    "        for l in word:\n",
    "            if l not in current:\n",
    "                return False\n",
    "            current = current[l]\n",
    "        return '#' in current\n",
    "\n",
    "    def startsWith(self, prefix: str) -> bool:\n",
    "        current = self.child\n",
    "        for l in prefix:\n",
    "            if l not in current:\n",
    "                return False\n",
    "            current = current[l]\n",
    "        return True"
   ]
  },
  {
   "cell_type": "markdown",
   "id": "fe2f9e8b",
   "metadata": {},
   "source": [
    "### Leetcode question\n",
    "\n",
    "Design a data structure that supports adding new words and finding if a string matches any previously added string.\n",
    "\n",
    "Implement the WordDictionary class:\n",
    "\n",
    "* `WordDictionary()` Initializes the object.\n",
    "* `void addWord(word)` Adds word to the data structure, it can be matched later.\n",
    "* `bool search(word)` Returns true if there is any string in the data structure that matches word or false otherwise.\n",
    "* `word` may contain dots '.' where dots can be matched with any letter."
   ]
  },
  {
   "cell_type": "code",
   "execution_count": 7,
   "id": "d9944b38",
   "metadata": {},
   "outputs": [],
   "source": [
    "# solution from leetcode\n",
    "\n",
    "class WordDictionary:\n",
    "\n",
    "    def __init__(self):\n",
    "        self.root = TrieNode()\n",
    "        self.maxL = 0\n",
    "        \n",
    "    def addWord(self, word: str) -> None:\n",
    "        node = self.root\n",
    "        l = 0\n",
    "        for w in word:\n",
    "            if w not in node.links:\n",
    "                node.links[w] = TrieNode()\n",
    "            node = node.links[w]\n",
    "            l += 1\n",
    "        self.maxL = max(self.maxL, l)\n",
    "        node.end = True\n",
    "\n",
    "    def search(self, word: str) -> bool:\n",
    "        if len(word) > self.maxL:\n",
    "            return False\n",
    "        \n",
    "        def helper(index, node):\n",
    "            for inn in range(index, len(word)):\n",
    "                c = word[inn]\n",
    "                if c == \".\":\n",
    "                    for child in node.links.values():\n",
    "                        if helper(inn+1, child):\n",
    "                            return True\n",
    "                    return False\n",
    "                else:\n",
    "                    if c not in node.links:\n",
    "                        return False\n",
    "                    node = node.links[c]\n",
    "            return node.end\n",
    "        return helper(0, self.root)\n",
    "        \n",
    "\n",
    "class TrieNode:\n",
    "    def __init__(self, value=None):\n",
    "        self.links = {}\n",
    "        self.end = False\n",
    "        \n",
    "\n",
    "# Your WordDictionary object will be instantiated and called as such:\n",
    "# obj = WordDictionary()\n",
    "# obj.addWord(word)\n",
    "# param_2 = obj.search(word)"
   ]
  },
  {
   "cell_type": "markdown",
   "id": "33c63197",
   "metadata": {},
   "source": [
    "## Algo Marathon: Intermediate Arrays Assessment\n",
    "\n",
    "Determine if a matrix is monotonically increasing along all rows and all columns. This means that along every row (left to right) and every column (top to bottom) each successive value is *at least* as large as the previous value.\n",
    "\n",
    "```text\n",
    "1 1 1 2\n",
    "1 2 3 3\n",
    "3 4 5 6\n",
    "```\n",
    "\n",
    "We can assume that the matrix is rectangular\n"
   ]
  },
  {
   "cell_type": "code",
   "execution_count": 9,
   "id": "dc5ce3ae",
   "metadata": {},
   "outputs": [],
   "source": [
    "# My solution\n",
    "\n",
    "def solution(matrix):\n",
    "    if len(matrix) < 1:\n",
    "        return False\n",
    "    # look at rows\n",
    "    for row in matrix:\n",
    "        for i in range(len(row)-1):\n",
    "            if row[i] > row[i+1]:\n",
    "                return False\n",
    "    # look at columns\n",
    "    for column in range(len(matrix[0])):\n",
    "        for row in range(len(matrix)-1):\n",
    "            if matrix[row][column] > matrix[row+1][column]:\n",
    "                return False\n",
    "    return True"
   ]
  },
  {
   "cell_type": "markdown",
   "id": "5183e733",
   "metadata": {},
   "source": [
    "TODO: See if you can improve the solution."
   ]
  },
  {
   "cell_type": "markdown",
   "id": "79c2a279",
   "metadata": {},
   "source": [
    "## Algo Marathon: Binary Trees Assessment"
   ]
  },
  {
   "cell_type": "markdown",
   "id": "cdac73d2",
   "metadata": {},
   "source": [
    "A tree is considered a binary search tree (BST) if for each of its nodes the following is true:\n",
    "\n",
    "1. The left subtree of a node contains only nodes with keys less than the node's key.\n",
    "2. The right subtree of a node contains only nodes with keys greater than the node's key.\n",
    "3. Both the left and the right subtrees must also be binary search trees.\n",
    "\n",
    "Given a binary search tree $t$, find the $k$ th smallest element in it.\n",
    "\n",
    "Note that kth smallest element means kth element in increasing order."
   ]
  },
  {
   "cell_type": "code",
   "execution_count": 24,
   "id": "38dde033",
   "metadata": {},
   "outputs": [],
   "source": [
    "class Tree:\n",
    "    def __init__(self, value, left=None, right=None):\n",
    "        self.value = value\n",
    "        self.left = left\n",
    "        self.right = right\n",
    "\n",
    "\n",
    "tree1 = Tree(5, Tree(2, Tree(10), Tree(4)), Tree(-3))\n",
    "\n",
    "\n",
    "def solution(root, k):\n",
    "    if not root.left and not root.right:\n",
    "        if not k:\n",
    "            return root.value\n",
    "        else:\n",
    "            return\n",
    "    solution(root.left, k-1)\n",
    "    solution(root.right, k-1)\n",
    "\n",
    "\n",
    "solution(tree1, 4) # should return 2\n"
   ]
  },
  {
   "cell_type": "markdown",
   "id": "454d0737",
   "metadata": {},
   "source": [
    "TODO: This wasn't correct, research the correct solution"
   ]
  },
  {
   "cell_type": "markdown",
   "id": "4b01a2f7",
   "metadata": {},
   "source": [
    "Given a binary tree of integers, return all the paths from the tree's root to its leaves as an array of strings. The strings should have the following format:\n",
    "`root->node1->node2->...->noden`, representing the path from `root` to `noden`, where `root` is the value stored in the root and `node1`,`node2`,...,`noden` are the values stored in the `1st`, `2nd`,..., and `nth` nodes in the path respectively (`noden` representing the leaf)."
   ]
  },
  {
   "cell_type": "code",
   "execution_count": 23,
   "id": "6efa2676",
   "metadata": {},
   "outputs": [
    {
     "name": "stdout",
     "output_type": "stream",
     "text": [
      "[]\n"
     ]
    }
   ],
   "source": [
    "class Tree:\n",
    "    def __init__(self, value, left=None, right=None):\n",
    "        self.value = value\n",
    "        self.left = left\n",
    "        self.right = right\n",
    "\n",
    "tree1 = Tree(5, Tree(2, Tree(10), Tree(4)), Tree(-3))\n",
    "\n",
    "'''\n",
    "    5\n",
    "  2   -3\n",
    "10 4\n",
    "'''\n",
    "\n",
    "'''\n",
    "t:\n",
    "{\n",
    "    \"value\": 1000,\n",
    "    \"left\": {\n",
    "        \"value\": 2,\n",
    "        \"left\": {\n",
    "            \"value\": 10,\n",
    "            \"left\": null,\n",
    "            \"right\": {\n",
    "                \"value\": -1000,\n",
    "                \"left\": null,\n",
    "                \"right\": {\n",
    "                    \"value\": 0,\n",
    "                    \"left\": null,\n",
    "                    \"right\": null\n",
    "                }\n",
    "            }\n",
    "        },\n",
    "        \"right\": {\n",
    "            \"value\": 4,\n",
    "            \"left\": null,\n",
    "            \"right\": null\n",
    "        }\n",
    "    },\n",
    "    \"right\": {\n",
    "        \"value\": 3,\n",
    "        \"left\": null,\n",
    "        \"right\": {\n",
    "            \"value\": 99,\n",
    "            \"left\": {\n",
    "                \"value\": 6,\n",
    "                \"left\": {\n",
    "                    \"value\": 1,\n",
    "                    \"left\": null,\n",
    "                    \"right\": null\n",
    "                },\n",
    "                \"right\": null\n",
    "            },\n",
    "            \"right\": null\n",
    "        }\n",
    "    }\n",
    "}\n",
    "'''\n",
    "\n",
    "\n",
    "def solution(t):\n",
    "    result = []\n",
    "    dfs(t, '', result)\n",
    "    return result\n",
    "\n",
    "\n",
    "def dfs(t, string, result):\n",
    "    if not t:\n",
    "        result.append(''.join(string[:]))\n",
    "        return\n",
    "    if not len(string):\n",
    "        string = f'{t.value}'\n",
    "    else:\n",
    "        string += f'->{t.value}'\n",
    "        dfs(t.left, string, result)\n",
    "        dfs(t.right, string, result)\n",
    "\n",
    "print(solution(tree1))\n",
    "\n"
   ]
  },
  {
   "cell_type": "markdown",
   "id": "78fea216",
   "metadata": {},
   "source": [
    "TODO: This wasn't right. Research the correct approach"
   ]
  },
  {
   "cell_type": "markdown",
   "id": "247b990a",
   "metadata": {},
   "source": [
    "## Algo Marathon: Recursion Assessment"
   ]
  },
  {
   "cell_type": "markdown",
   "id": "2605b857",
   "metadata": {},
   "source": [
    "### Question 1\n",
    "\n",
    "You're a coder - you know how important it is to have a closing parenthesis for every opening parenthesis! Given n pairs of parentheses, write a function that generates all of the possible combinations of regular parentheses, sorted in lexicographical order.\n",
    "\n",
    "For `n=4`:\n",
    "\n",
    "```text\n",
    "solution(n) = \n",
    "[\n",
    "  \"(((())))\", \"((()()))\",\n",
    "  \"((())())\", \"((()))()\", \n",
    "  \"(()(()))\", \"(()()())\", \n",
    "  \"(()())()\", \"(())(())\", \n",
    "  \"(())()()\", \"()((()))\", \n",
    "  \"()(()())\", \"()(())()\", \n",
    "  \"()()(())\", \"()()()()\"\n",
    "]\n",
    "```\n",
    "\n",
    "Here is the related leetcode question: [22. Generate Parentheses](https://leetcode.com/problems/generate-parentheses/)"
   ]
  },
  {
   "cell_type": "code",
   "execution_count": null,
   "id": "9fabd644",
   "metadata": {},
   "outputs": [],
   "source": [
    "# TODO: the code\n"
   ]
  },
  {
   "cell_type": "code",
   "execution_count": 25,
   "id": "456b0149",
   "metadata": {},
   "outputs": [],
   "source": [
    "# Leetcode solution\n",
    "\n",
    "class Solution(object):\n",
    "    def generateParenthesis(self, n):\n",
    "        def generate(A = []):\n",
    "            if len(A) == 2*n:\n",
    "                if valid(A):\n",
    "                    ans.append(\"\".join(A))\n",
    "            else:\n",
    "                A.append('(')\n",
    "                generate(A)\n",
    "                A.pop()\n",
    "                A.append(')')\n",
    "                generate(A)\n",
    "                A.pop()\n",
    "\n",
    "        def valid(A):\n",
    "            bal = 0\n",
    "            for c in A:\n",
    "                if c == '(': bal += 1\n",
    "                else: bal -= 1\n",
    "                if bal < 0: return False\n",
    "            return bal == 0\n",
    "\n",
    "        ans = []\n",
    "        generate()\n",
    "        return ans"
   ]
  },
  {
   "cell_type": "markdown",
   "id": "59128c91",
   "metadata": {},
   "source": [
    "### Question 2\n",
    "\n",
    "Given a linked list of numbers, determine if the values in the list create a palindrome. For example:\n",
    "\n",
    "`10 -> 5 -> 10`\n",
    "\n",
    "is a palindromic list. We're not worried about the digits in each value in the list, only that the values themselves match in the corresponding nodes."
   ]
  },
  {
   "cell_type": "code",
   "execution_count": null,
   "id": "8bdfe4a8",
   "metadata": {},
   "outputs": [],
   "source": [
    "# My non-recursive soltion\n",
    "\n",
    "def solution1(head):\n",
    "    items = []\n",
    "    current = head\n",
    "    \n",
    "    while current:\n",
    "        items.append(current.value)\n",
    "        current = current.next\n",
    "    \n",
    "    i = 0\n",
    "    j = len(items) - 1\n",
    "    while i < j:\n",
    "        if items[i] != items[j]:\n",
    "            return False\n",
    "        i += 1\n",
    "        j -= 1\n",
    "    return True\n",
    "\n",
    "# TODO: non-recursive solution"
   ]
  },
  {
   "cell_type": "markdown",
   "id": "20c90b69",
   "metadata": {},
   "source": [
    "## Algo Workout with Victor\n",
    "\n",
    "Problem Statement\n",
    "\n",
    "Given an array of 0s and 1s, what is the minimum number of moves needed to group all 0s on one side and 1s on the other side. A \"move\" is a swap between any adjacent positions.\n",
    "Examples\n",
    "[0, 1] => 0, no swaps are needed since they are already grouped.\n",
    "[0, 1, 0] => 1, swap 1 with either 0 to group them.\n",
    "[1, 0, 1, 1, 0] => 2, swap 0 with 1 then swap it again with the next 1.\n",
    "Function Signature\n",
    "function minSwaps(input: Array): number\n",
    "\n",
    "Try to solve the problem from the middle:\n",
    "Solve the middle step correctly, caller will get a correct solution\n",
    "\n",
    "NOTES:\n",
    "linked lists, stacks, queues, trees (binary, n-ary), sorting - merge sort\n",
    "when writing code, look "
   ]
  },
  {
   "cell_type": "code",
   "execution_count": null,
   "id": "6d6954a7",
   "metadata": {
    "vscode": {
     "languageId": "javascript"
    }
   },
   "outputs": [],
   "source": [
    "/*\n",
    "Problem Statement\n",
    "\n",
    "Given an array of 0s and 1s, what is the minimum number of moves needed to group all 0s on one side and 1s on the other side. A \"move\" is a swap between any adjacent positions.\n",
    "Examples\n",
    "[0, 1] => 0, no swaps are needed since they are already grouped.\n",
    "[0, 1, 0] => 1, swap 1 with either 0 to group them.\n",
    "[1, 0, 1, 1, 0] => 2, swap 0 with 1 then swap it again with the next 1.\n",
    "Function Signature\n",
    "function minSwaps(input: Array): number\n",
    "\n",
    "[0, 1, 0, 1,]\n",
    "i   k  j  \n",
    "\n",
    "[0,0,1,1]\n",
    " \n",
    "\n",
    "swap = 1\n",
    "\n",
    "count=6 (i-lastZeroSeen)\n",
    "[ 0,0,1,1,1,1,1,0,1 ................]\n",
    "[ 0,0,0,1,1,1,1,1,1 ................]\n",
    "    ^         ^\n",
    "    l         i        \n",
    "[ 0,0,1,1,1,1,1,0,0 ................]\n",
    "i-lastZeroSeen\n",
    "\n",
    "[0,1,1,0,1,0]\n",
    "           ^     \n",
    "length = 6\n",
    "l = 1\n",
    "count = 4\n",
    "i = 5\n",
    "\n",
    "\n",
    "*/\n",
    "\n",
    "function minSwaps(input) {\n",
    "  return Math.min(minSwapsJosh(input), minSwapsKyle(input))\n",
    "}\n",
    "\n",
    "function minSwapsJosh(input) {\n",
    "  let lastZeroSeen = 0;\n",
    "  let count = 0;\n",
    "  let i = 0;\n",
    "  while(i<input.length) {\n",
    "    if(input[i]==0) {\n",
    "      count += i-lastZeroSeen;\n",
    "      lastZeroSeen++;\n",
    "    }\n",
    "    i++;\n",
    "  }\n",
    "  return count;\n",
    "}\n",
    "\n",
    "\n",
    "\n",
    "function minSwapsKyle(input) {\n",
    "  let lastOneSeen = 0;\n",
    "  let count = 0;\n",
    "  let i = 0;\n",
    "  while (i < input.length) {\n",
    "    if (input[i] == 1) {\n",
    "      count += i - lastOneSeen;\n",
    "      lastOneSeen++;\n",
    "    }\n",
    "    i++;\n",
    "  }\n",
    "  return count;\n",
    "}\n",
    "\n",
    "console.log(minSwaps([1, 0, 1, 1, 0]), \"should return 2\")\n",
    "console.log(minSwaps([0,1,1,0,1,0]), \"should return 4\")\n",
    "console.log(minSwaps([0, 1]), \"should return 0\")\n",
    "console.log(minSwaps([0, 1, 0]), \"should return 1\")"
   ]
  },
  {
   "cell_type": "markdown",
   "id": "cf9ea27d",
   "metadata": {},
   "source": [
    "## Practice Strength Algo: Max Path Sum In Binary Tree\n",
    "\n",
    "[124. Binary Tree Maximum Path Sum](https://leetcode.com/problems/binary-tree-maximum-path-sum/)\n",
    "\n",
    "[Neet Code approach on youtube](https://www.youtube.com/watch?v=Hr5cWUld4vU)\n"
   ]
  },
  {
   "cell_type": "code",
   "execution_count": null,
   "id": "bccb6467",
   "metadata": {
    "vscode": {
     "languageId": "javascript"
    }
   },
   "outputs": [],
   "source": []
  }
 ],
 "metadata": {
  "kernelspec": {
   "display_name": "Python 3.10.0 64-bit",
   "language": "python",
   "name": "python3"
  },
  "language_info": {
   "codemirror_mode": {
    "name": "ipython",
    "version": 3
   },
   "file_extension": ".py",
   "mimetype": "text/x-python",
   "name": "python",
   "nbconvert_exporter": "python",
   "pygments_lexer": "ipython3",
   "version": "3.10.0"
  },
  "vscode": {
   "interpreter": {
    "hash": "98590ff4fe04c8543246b2a01debd3de3c5ca9b666f43f1fa87d5110c692004c"
   }
  }
 },
 "nbformat": 4,
 "nbformat_minor": 5
}
