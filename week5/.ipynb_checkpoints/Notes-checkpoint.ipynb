{
 "cells": [
  {
   "cell_type": "markdown",
   "id": "72b1bd0e",
   "metadata": {},
   "source": [
    "# Notes for week 5"
   ]
  },
  {
   "cell_type": "markdown",
   "id": "3a6eab72",
   "metadata": {},
   "source": [
    "## Matrix Multiplication\n",
    "\n",
    "Given two matrices, find the result of matrix multiplication.\n",
    "\n",
    "$$\n",
    "     \\begin{bmatrix}\n",
    "         1 & 7\\\\ \n",
    "         2 & 4 \n",
    "     \\end{bmatrix}\n",
    "     \\times\n",
    "     \\begin{bmatrix}\n",
    "         3 & 3\\\\ \n",
    "         5 & 2  \n",
    "     \\end{bmatrix}\n",
    "      =\n",
    "     \\begin{bmatrix}\n",
    "         38 & 17\\\\ \n",
    "         26 & 14   \n",
    "     \\end{bmatrix}\n",
    "  $$"
   ]
  },
  {
   "cell_type": "code",
   "execution_count": 4,
   "id": "b15a1b35",
   "metadata": {},
   "outputs": [],
   "source": [
    "def matrixMultiply(matrixA, matrixB):\n",
    "    output = []\n",
    "    outputPtr = 0\n",
    "    x = 0\n",
    "    \n",
    "    for k in range(len(matrixA)):\n",
    "        tmp = []\n",
    "        for j in range(len(matrixA[k])):\n",
    "            accumulator = 0\n",
    "            for i in range(len(matrixA[j])):\n",
    "                accumulator += matrixA[k][i] * matrixB[i][j]\n",
    "            tmp.append(accumulator)\n",
    "        output.append(tmp[:])\n",
    "\n",
    "    return output"
   ]
  },
  {
   "cell_type": "code",
   "execution_count": 20,
   "id": "6047570c",
   "metadata": {},
   "outputs": [
    {
     "name": "stdout",
     "output_type": "stream",
     "text": [
      "True should be True\n"
     ]
    }
   ],
   "source": [
    "matrixA = [[1, 7], [2, 4]]\n",
    "matrixB = [[3, 3], [5, 2]]\n",
    "result = [[38, 17], [26, 14]]\n",
    "print(matrixMultiply(matrixA, matrixB) == result, 'should be True')"
   ]
  },
  {
   "cell_type": "code",
   "execution_count": null,
   "id": "b67cb264",
   "metadata": {},
   "outputs": [],
   "source": []
  }
 ],
 "metadata": {
  "kernelspec": {
   "display_name": "Python 3 (ipykernel)",
   "language": "python",
   "name": "python3"
  },
  "language_info": {
   "codemirror_mode": {
    "name": "ipython",
    "version": 3
   },
   "file_extension": ".py",
   "mimetype": "text/x-python",
   "name": "python",
   "nbconvert_exporter": "python",
   "pygments_lexer": "ipython3",
   "version": "3.9.12"
  }
 },
 "nbformat": 4,
 "nbformat_minor": 5
}
