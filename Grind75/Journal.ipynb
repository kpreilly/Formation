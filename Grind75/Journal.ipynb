{
 "cells": [
  {
   "cell_type": "markdown",
   "metadata": {},
   "source": [
    "# Grind75 Notes\n",
    "\n",
    "Relevant Grind75 [link](https://www.techinterviewhandbook.org/grind75?hours=15&difficulty=Easy&difficulty=Medium)\n",
    "\n",
    "## Sean Darryanto Manifesto :)\n",
    "\n",
    "3 Levels to Algorithm Mastery\n",
    "\n",
    "1. Understanding the Base Algorithm\n",
    "    - Sort problems by topic\n",
    "    - Sort by difficult, easy -> hard\n",
    "    - Grind out the easy questions and try to understand them as much as you can.\n",
    "    - Look at the discussion/solution to get clarity if stuck.\n",
    "\n",
    "2. Identifying Algorithm in Questions\n",
    "    - For every question you do in the above section, go to the left tab and look at the \"Similar Questions\" section.\n",
    "    - Do every question within 1-level-higher of the similar questions.\n",
    "    - Really look at the question, and try and find hints to affirm that the algorithm you used previously applies to this question.\n",
    "\n",
    "3. Modifying Algorithm for Specific Questions\n",
    "    - As you do the above questions, solve the question utilizing your previous solution and change the pieces that need to be changed.\n",
    "    - Recommend NOT looking at the solution/discussion until you feel like you're at the point of (mental/emotional) failure\n",
    "\n",
    "Study Guide:\n",
    "- Copy/Paste the Question and Implementation\n",
    "- Write a paragraph summary in human-readable format explaining the solution\n",
    "\n",
    "* Keep track of the questions that you didn't do well on\n",
    "    - Come back to that question a week later\n",
    "\n",
    "A week before any of your big interviews, allocate time to do questions filtered by company/frequency\n",
    "    - These will have questions you'll most likely get\n",
    "    - You should be more comfortable around questions like this, that you haven't seen before\n",
    "    - And you'll get more exposure around those questions\n",
    "    - NOTE: I got a shit ton of those most-frequent questions in my interviews\n",
    "\n",
    "When solving Leetcode questions, treat them like an interview question."
   ]
  },
  {
   "cell_type": "markdown",
   "metadata": {},
   "source": [
    "## Two Sum\n",
    "\n",
    "Problem link: [1. Two Sum](https://leetcode.com/problems/two-sum/)"
   ]
  },
  {
   "cell_type": "code",
   "execution_count": null,
   "metadata": {},
   "outputs": [],
   "source": [
    "from typing import List\n",
    "# My solution:\n",
    "def twoSum(nums: List[int], target: int) -> List[int]:\n",
    "    for i in range(len(nums)-1):\n",
    "        for j in range(i+1, len(nums)):\n",
    "            if nums[i] + nums[j] == target:\n",
    "                return [i, j]\n",
    "    return []"
   ]
  },
  {
   "cell_type": "markdown",
   "metadata": {},
   "source": [
    "Plain-English Explanation\n",
    "\n",
    "Using two pointers, traverse the array, comparing the value at each position. One pointer is slow, and the other is fast.\n",
    "At each comparison if we find the target sum, return True.\n",
    "\n",
    "Time: $O(n^2)$\n",
    "\n",
    "Problem: This solution takes a long time!\n",
    "\n",
    "Meta-algorithm: Two pointers?\n",
    "- Problem type: Array\n"
   ]
  },
  {
   "cell_type": "markdown",
   "metadata": {},
   "source": [
    "Training or warming up, focus on breathing.\n",
    "Taking big deep breaths while your playing can help improve focus.\n"
   ]
  }
 ],
 "metadata": {
  "kernelspec": {
   "display_name": "Python 3.10.0 64-bit",
   "language": "python",
   "name": "python3"
  },
  "language_info": {
   "name": "python",
   "version": "3.10.0"
  },
  "orig_nbformat": 4,
  "vscode": {
   "interpreter": {
    "hash": "98590ff4fe04c8543246b2a01debd3de3c5ca9b666f43f1fa87d5110c692004c"
   }
  }
 },
 "nbformat": 4,
 "nbformat_minor": 2
}
