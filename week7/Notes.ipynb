{
 "cells": [
  {
   "cell_type": "markdown",
   "metadata": {},
   "source": [
    "# Week 7 Notes"
   ]
  },
  {
   "cell_type": "markdown",
   "metadata": {},
   "source": [
    "## Pair Learning: Linked List Cycle\n",
    "\n",
    "Given a linked list, determine if it has a cycle.\n",
    "\n",
    "Function Signature: \n",
    "`def has_cycle(head: ListNode) -> bool`\n",
    "\n",
    "Target runtime and space complexity:\n",
    "$O(N)$\n",
    "\n",
    "> There is a cycle in a linked list if there is some node in the list that can be reached again by continuously following the next pointer.\n",
    "\n",
    "Related [leetcode question](https://leetcode.com/problems/linked-list-cycle/)"
   ]
  },
  {
   "cell_type": "code",
   "execution_count": 12,
   "metadata": {},
   "outputs": [
    {
     "name": "stdout",
     "output_type": "stream",
     "text": [
      "-== Test 1 ==-\n",
      "expected:\tTrue\n",
      "  result:\tTrue\n",
      "-== Test 2 ==-\n",
      "expected:\tFalse\n",
      "  result:\tFalse\n"
     ]
    }
   ],
   "source": [
    "class ListNode:\n",
    "\n",
    "    def __init__(self, value, next=None):\n",
    "        self.value = value\n",
    "        self.next = next\n",
    "\n",
    "\n",
    "def has_cycle(head: ListNode) -> bool:\n",
    "    if not head:\n",
    "        return False\n",
    "    slowNode = head\n",
    "    fastNode = head.next\n",
    "    while slowNode and fastNode:\n",
    "        if slowNode == fastNode:\n",
    "            return True\n",
    "        slowNode = slowNode.next\n",
    "        try:\n",
    "            fastNode = fastNode.next.next\n",
    "        except:\n",
    "            fastNode = None\n",
    "    return False\n",
    "\n",
    "test1 = ListNode(1, ListNode(2, ListNode(3)))\n",
    "test1.next.next = test1.next\n",
    "\n",
    "print(f\"-== Test 1 ==-\\nexpected:\\tTrue\\n  result:\\t{has_cycle(test1)}\")\n",
    "test1.next.next = None\n",
    "print(f\"-== Test 2 ==-\\nexpected:\\tFalse\\n  result:\\t{has_cycle(test1)}\")\n"
   ]
  }
 ],
 "metadata": {
  "kernelspec": {
   "display_name": "Python 3.10.0 64-bit",
   "language": "python",
   "name": "python3"
  },
  "language_info": {
   "codemirror_mode": {
    "name": "ipython",
    "version": 3
   },
   "file_extension": ".py",
   "mimetype": "text/x-python",
   "name": "python",
   "nbconvert_exporter": "python",
   "pygments_lexer": "ipython3",
   "version": "3.10.0"
  },
  "orig_nbformat": 4,
  "vscode": {
   "interpreter": {
    "hash": "98590ff4fe04c8543246b2a01debd3de3c5ca9b666f43f1fa87d5110c692004c"
   }
  }
 },
 "nbformat": 4,
 "nbformat_minor": 2
}
