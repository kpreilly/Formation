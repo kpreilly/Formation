{
 "cells": [
  {
   "cell_type": "markdown",
   "metadata": {},
   "source": [
    "# Week 8 Notes"
   ]
  },
  {
   "cell_type": "markdown",
   "metadata": {},
   "source": [
    "## Backtracking\n",
    "\n",
    "*Backtracking* is an algorithm strategy for recursively solving problems by building candidate solutions and abandoning them when an extension to it cannot produce a valid answer. It removes results which fail to satisfy a problem's constraints.\n",
    "\n",
    "*Backtracking* solves a subset of problems where the algorithm can quickly test if including an incremental step to a potential solution will yield a possible result or determine if a possible solution is a dead end. It searches for a solution to a problem among all available options. If a selected option solves the problem it is returned, otherwise we backtrack and choose another option.\n",
    "\n",
    "```text\n",
    "procedure backtrack(candidate):\n",
    "    if shouldReject(candidate)\n",
    "        then return\n",
    "    if isPotentialSolution(candidate)\n",
    "        then return candidate\n",
    "    for addition in additions:\n",
    "        candidate = combine(candidate, addition)\n",
    "        backtrack(candidate)\n",
    "        candidate = separate(candidate, addition)\n",
    "```\n",
    "\n",
    "DFS is a simple, and well known, backtracking algorithm\n",
    "\n",
    "* find the min/max value\n",
    "* find the max root-to-leaf sum\n",
    "\n",
    "List possible solutions:\n",
    "\n",
    "* enumerate all leaf nodes\n",
    "* enumerate all root-to-leaf paths\n",
    "* enumerate all subsets\n",
    "* enumerate all permutations\n",
    "* enumerate all combinations\n"
   ]
  },
  {
   "cell_type": "markdown",
   "metadata": {},
   "source": [
    "## Algo: Power Of Three\n",
    "\n"
   ]
  },
  {
   "cell_type": "code",
   "execution_count": 11,
   "metadata": {},
   "outputs": [
    {
     "data": {
      "text/plain": [
       "5"
      ]
     },
     "execution_count": 11,
     "metadata": {},
     "output_type": "execute_result"
    }
   ],
   "source": [
    "class Solution:\n",
    "    def isPowerOfThree(self, n: int) -> bool:\n",
    "        items = {}\n",
    "        for i in range(20):\n",
    "            items[3**i] = i\n",
    "        return n in items"
   ]
  },
  {
   "cell_type": "markdown",
   "metadata": {},
   "source": [
    "## Practice Core Algo: Sum Elements in a Linked List (recursively)"
   ]
  },
  {
   "cell_type": "code",
   "execution_count": 13,
   "metadata": {},
   "outputs": [
    {
     "name": "stdout",
     "output_type": "stream",
     "text": [
      "Test 1 pass\n",
      "Test 2 pass\n",
      "Test 3 pass\n"
     ]
    }
   ],
   "source": [
    "class ListNode:\n",
    "    def __init__(self, value = 0, next = None): \n",
    "        self.value = value\n",
    "        self.next = next\n",
    "        \n",
    "def sum(node: ListNode) -> int:\n",
    "    if node is None:\n",
    "        return 0\n",
    "    return node.value + sum(node.next)\n",
    "\n",
    "# Test Cases\n",
    "LL1 = ListNode(1, ListNode(4, ListNode(5)))\n",
    "print(\"Test 1\", \"pass\" if sum(None) == 0 else \"fail\") # 0\n",
    "print(\"Test 2\", \"pass\" if sum(LL1) == 10 else \"fail\") # 10\n",
    "print(\"Test 3\", \"pass\" if sum(ListNode(1)) == 1 else \"fail\") # 1"
   ]
  },
  {
   "cell_type": "code",
   "execution_count": 18,
   "metadata": {},
   "outputs": [
    {
     "name": "stdout",
     "output_type": "stream",
     "text": [
      "x = 1 should return 1 pass\n",
      "x = 2 should return 2 pass\n",
      "x = 3 should return 6 pass\n"
     ]
    }
   ],
   "source": [
    "def iterative_factorial(x):\n",
    "    result = 1\n",
    "    for i in range(1, x+1):\n",
    "        result = result * i\n",
    "    return result\n",
    "\n",
    "print(\"x = 1 should return 1\", \"pass\" if iterative_factorial(1) == 1 else \"fail\" )\n",
    "print(\"x = 2 should return 2\", \"pass\" if iterative_factorial(2) == 2 else f\"fail, result: {iterative_factorial(2)}\" )\n",
    "print(\"x = 3 should return 6\", \"pass\" if iterative_factorial(3) == 6 else f\"fail, result: {iterative_factorial(3)}\" )"
   ]
  },
  {
   "cell_type": "code",
   "execution_count": 29,
   "metadata": {},
   "outputs": [
    {
     "name": "stdout",
     "output_type": "stream",
     "text": [
      "pass\n"
     ]
    }
   ],
   "source": [
    "def recursiveMax(arr, curMax=None, i=0):\n",
    "    if i >= len(arr):\n",
    "        return curMax\n",
    "    curMax = max(arr[i], curMax if curMax else float(\"-inf\"))\n",
    "    return recursiveMax(arr, curMax, i + 1)\n",
    "\n",
    "print(\"pass\" if recursiveMax([1,2,3]) == 3 else \"fail\")\n",
    "        "
   ]
  },
  {
   "cell_type": "markdown",
   "metadata": {},
   "source": [
    "## Practice Problem: Change Pi\n",
    "\n",
    "Prompt\n",
    "Given a string, compute recursively (no loops) a new string where all appearances of \"pi\" have been replaced by \"3.14\"."
   ]
  },
  {
   "cell_type": "code",
   "execution_count": 31,
   "metadata": {},
   "outputs": [
    {
     "name": "stdout",
     "output_type": "stream",
     "text": [
      "pass\n",
      "pass\n",
      "pass\n"
     ]
    }
   ],
   "source": [
    "\n",
    "def changePi(word: str) -> str:\n",
    "    item = ''.join([ch for ch in word])\n",
    "    while \"pi\" in item:\n",
    "        item = item.replace(\"pi\", \"3.14\")\n",
    "    return item\n",
    "\n",
    "print(\"pass\" if changePi(\"xpix\") == \"x3.14x\" else \"fail\")\n",
    "print(\"pass\" if changePi(\"pipi\") == \"3.143.14\" else \"fail\")\n",
    "print(\"pass\" if changePi(\"pip\") == \"3.14p\" else \"fail\")"
   ]
  },
  {
   "cell_type": "markdown",
   "metadata": {},
   "source": [
    "## Interweaving Strings\n",
    "\n",
    "Algoexpert [Link](https://www.algoexpert.io/questions/Interweaving%20Strings)\n",
    "\n",
    "This is a dynamic programming problem. We need to cache work that has been done to avoid unnecessary work.\n",
    "\n",
    "TODO: Revisit this problem. Look up dynamic programming insights to get background information."
   ]
  },
  {
   "cell_type": "code",
   "execution_count": null,
   "metadata": {},
   "outputs": [],
   "source": [
    "'''\n",
    "Caching soltution\n",
    "O(nm) time\n",
    "O(nm) space\n",
    "'''\n",
    "\n",
    "def interweavingStrings(one, two, three):\n",
    "    if len(three) != len(one) + len(two):\n",
    "        return False\n",
    "    cache = [[None for j in range(len(two) + 1)] for i in range(len(one) + 1)]\n",
    "    return areInterwoven(one, two, three, 0, 0, cache)\n",
    "\n",
    "def areInterwoven(one, two, three, i, j, cache):\n",
    "    \n",
    "    if cache[i][j] is not None:\n",
    "        return cache[i][j]\n",
    "    # compute the index of the third string\n",
    "    k = i + j\n",
    "    if k == len(three):\n",
    "        return True\n",
    "    # explore options\n",
    "    # ensure that we're within the bounds of the first string\n",
    "    # also check if we've found one of the letters we need\n",
    "    if i < len(one) and one[i] ==  three[k]:\n",
    "        # recursive call\n",
    "        cache[i][j] = areInterwoven(one, two, three, i+1, j, cache)\n",
    "        if cache[i][j]:\n",
    "            return True\n",
    "\n",
    "    if j < len(two) and two[j] == three[k]:\n",
    "        # recursive call\n",
    "        cache[i][j] = areInterwoven(one, two, three, i, j+1, cache)\n",
    "        return cache[i][j]\n",
    "\n",
    "    cache[i][j] = False\n",
    "    return False"
   ]
  },
  {
   "cell_type": "markdown",
   "metadata": {},
   "source": [
    "## Algo Workout with Sean\n",
    "\n",
    "Problem Statement\n",
    "\n",
    "Insertion sort is a sorting algorithm that works the way we sort playing cards in our hands and you've likely done this iteratively. Now we will do it recursively.\n",
    "\n",
    "Note: This is an exercise in modifying an algorithm to use recursion even though it is normally done iteratively. \n",
    "\n",
    "You can still use a loop within each recursive frame to do part of the algorithm. Just make part of the overall algorithm recursive.\n",
    "\n",
    "Insertion sort is a stable, in-place sorting algorithm that builds the final sorted list one item at a time. The partially sorted list initially contains only the first element in the list. With each iteration one element is removed from the remaining unsorted portion of the list and inserted in-place into the sorted portion of the list.\n",
    "\n",
    "Examples:\n",
    "\n",
    "`inputArr = [3, 8, 5, 4, 1, 9, -2]` should become `[-2, 1, 3, 4, 5, 8, 9]`.\n",
    "\n"
   ]
  },
  {
   "cell_type": "code",
   "execution_count": null,
   "metadata": {},
   "outputs": [],
   "source": [
    "\"\"\"\n",
    "\n",
    "\n",
    "Insertion Sort:\n",
    "- Looking through the elements in the unsorted list\n",
    "- At each element:\n",
    "    - Iterating backward through the S list (compare against element before myself)\n",
    "        - if value greater than the current value \n",
    "            - swap:\n",
    "                - use a temp variable set to the unsorted_element\n",
    "                - set the unsorted_element to the sorted_element\n",
    "                - set the sorted_element to the temp variable\n",
    "            - continue\n",
    "                - decrement index of unsorted_element\n",
    "        - if value less than the current value or the beginning of the S list\n",
    "            - stop\n",
    "\n",
    "Approach:\n",
    "Set unsorted pointer to index 1\n",
    "call helper function, passing in array and unsorted_Ptr\n",
    "helper(arr: List, unsorted_Ptr: int)\n",
    "\n",
    "helper function:\n",
    "if unsorted_Ptr >= length of the array\n",
    "    return\n",
    "create tmp variable to traverse the sorted array\n",
    "while we haven't reached the beginning of the array:\n",
    "    compare the values at tmp and the index immediately preceeding it. \n",
    "        If the value is greater than the value at tmp, perform a swap\n",
    "            decrement tmp\n",
    "        else\n",
    "            break\n",
    "recursively call helper, passing arr and unsorted_Ptr + 1\n",
    "\"\"\"\n",
    "#  inputArr = [2, 3, 4, 1]\n",
    "# [2, 3, 4, 1]\n",
    "# [2, 3, 1, 4]\n",
    "# [2, 1, 3, 4]\n",
    "# [1, 2, 3, 4]\n",
    "\n",
    "from typing import List\n",
    "\n",
    "def insertion_sort(arr: List[int]) -> None:\n",
    "    unsorted_ptr = 1\n",
    "\n",
    "    def helper(arr, unsorted_ptr):\n",
    "        if unsorted_ptr >= len(arr):\n",
    "            return\n",
    "        cur_ptr = unsorted_ptr\n",
    "        while cur_ptr > 0:\n",
    "            if arr[cur_ptr] >= arr[cur_ptr-1]:\n",
    "                break\n",
    "            arr[cur_ptr], arr[cur_ptr-1] = arr[cur_ptr-1], arr[cur_ptr]\n",
    "            cur_ptr -= 1\n",
    "        helper(arr, unsorted_ptr + 1)\n",
    "\n",
    "    helper(arr, unsorted_ptr)"
   ]
  }
 ],
 "metadata": {
  "kernelspec": {
   "display_name": "Python 3.10.0 64-bit",
   "language": "python",
   "name": "python3"
  },
  "language_info": {
   "codemirror_mode": {
    "name": "ipython",
    "version": 3
   },
   "file_extension": ".py",
   "mimetype": "text/x-python",
   "name": "python",
   "nbconvert_exporter": "python",
   "pygments_lexer": "ipython3",
   "version": "3.10.0"
  },
  "orig_nbformat": 4,
  "vscode": {
   "interpreter": {
    "hash": "98590ff4fe04c8543246b2a01debd3de3c5ca9b666f43f1fa87d5110c692004c"
   }
  }
 },
 "nbformat": 4,
 "nbformat_minor": 2
}
